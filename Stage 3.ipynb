{
 "cells": [
  {
   "cell_type": "markdown",
   "metadata": {},
   "source": [
    "# Stage 3:"
   ]
  },
  {
   "cell_type": "markdown",
   "metadata": {},
   "source": [
    "# 1) Divide data into train & test samples. (70-30 split)"
   ]
  },
  {
   "cell_type": "code",
   "execution_count": 25,
   "metadata": {
    "collapsed": true
   },
   "outputs": [],
   "source": [
    "#importing the necessary libraries\n",
    "import pandas as pd\n",
    "import numpy as np\n",
    "from sklearn.model_selection import train_test_split"
   ]
  },
  {
   "cell_type": "code",
   "execution_count": 26,
   "metadata": {},
   "outputs": [
    {
     "data": {
      "text/html": [
       "<div>\n",
       "<style>\n",
       "    .dataframe thead tr:only-child th {\n",
       "        text-align: right;\n",
       "    }\n",
       "\n",
       "    .dataframe thead th {\n",
       "        text-align: left;\n",
       "    }\n",
       "\n",
       "    .dataframe tbody tr th {\n",
       "        vertical-align: top;\n",
       "    }\n",
       "</style>\n",
       "<table border=\"1\" class=\"dataframe\">\n",
       "  <thead>\n",
       "    <tr style=\"text-align: right;\">\n",
       "      <th></th>\n",
       "      <th>Unnamed: 5</th>\n",
       "      <th>Unnamed: 6</th>\n",
       "    </tr>\n",
       "  </thead>\n",
       "  <tbody>\n",
       "    <tr>\n",
       "      <th>0</th>\n",
       "      <td>C1) Funding FY2008</td>\n",
       "      <td>C2) Funding FY2009</td>\n",
       "    </tr>\n",
       "    <tr>\n",
       "      <th>1</th>\n",
       "      <td>5.24</td>\n",
       "      <td>7.19</td>\n",
       "    </tr>\n",
       "    <tr>\n",
       "      <th>2</th>\n",
       "      <td>14</td>\n",
       "      <td>14</td>\n",
       "    </tr>\n",
       "    <tr>\n",
       "      <th>3</th>\n",
       "      <td>5</td>\n",
       "      <td>5</td>\n",
       "    </tr>\n",
       "    <tr>\n",
       "      <th>4</th>\n",
       "      <td>4.57</td>\n",
       "      <td>11.79</td>\n",
       "    </tr>\n",
       "  </tbody>\n",
       "</table>\n",
       "</div>"
      ],
      "text/plain": [
       "           Unnamed: 5          Unnamed: 6\n",
       "0  C1) Funding FY2008  C2) Funding FY2009\n",
       "1                5.24                7.19\n",
       "2                  14                  14\n",
       "3                   5                   5\n",
       "4                4.57               11.79"
      ]
     },
     "execution_count": 26,
     "metadata": {},
     "output_type": "execute_result"
    }
   ],
   "source": [
    "#reading the dataset on which i will perform the xgboost model\n",
    "df = pd.read_csv('PercentGrowth.csv',usecols=['Unnamed: 5','Unnamed: 6'])\n",
    "df.head(5)"
   ]
  },
  {
   "cell_type": "code",
   "execution_count": 73,
   "metadata": {},
   "outputs": [],
   "source": [
    "#reading the label\n",
    "Y = pd.read_csv('PercentGrowth.csv',usecols=['Tags'])\n"
   ]
  },
  {
   "cell_type": "code",
   "execution_count": 87,
   "metadata": {},
   "outputs": [],
   "source": [
    "#saving the label in alist\n",
    "label=[]\n",
    "for i in range(1,len(Y['Tags'])):\n",
    "    label.append(int(Y['Tags'][i]))"
   ]
  },
  {
   "cell_type": "code",
   "execution_count": 88,
   "metadata": {},
   "outputs": [
    {
     "data": {
      "text/plain": [
       "{0, 1}"
      ]
     },
     "execution_count": 88,
     "metadata": {},
     "output_type": "execute_result"
    }
   ],
   "source": [
    "#checking unique values of label\n",
    "set(label)"
   ]
  },
  {
   "cell_type": "markdown",
   "metadata": {},
   "source": [
    "we will apply XGboost to predict the tags of the data prepared in stage 1"
   ]
  },
  {
   "cell_type": "code",
   "execution_count": 89,
   "metadata": {},
   "outputs": [],
   "source": [
    "X=df.iloc[1:]\n",
    "X=X.astype(float)"
   ]
  },
  {
   "cell_type": "code",
   "execution_count": 92,
   "metadata": {},
   "outputs": [],
   "source": [
    "#using scikit learn's train_test_split function splitting the data into 70-30\n",
    "X_train, X_test, y_train, y_test = train_test_split(X, label, test_size=0.3)"
   ]
  },
  {
   "cell_type": "markdown",
   "metadata": {},
   "source": [
    "# 2) Select features & build xgboost model. You will be judged on roc_auc_score on test sample."
   ]
  },
  {
   "cell_type": "markdown",
   "metadata": {},
   "source": [
    "I will be taking the Funding 2008 and funding 2009 as features for prediction of tags. The model will learn the pattern of growth and will predict weather the funding growth will be positive or negative."
   ]
  },
  {
   "cell_type": "code",
   "execution_count": 93,
   "metadata": {},
   "outputs": [
    {
     "name": "stdout",
     "output_type": "stream",
     "text": [
      "[0]\tvalidation_0-auc:0.79699\tvalidation_1-auc:0.797138\n",
      "[1]\tvalidation_0-auc:0.80236\tvalidation_1-auc:0.825337\n",
      "[2]\tvalidation_0-auc:0.810203\tvalidation_1-auc:0.819865\n",
      "[3]\tvalidation_0-auc:0.810203\tvalidation_1-auc:0.819865\n",
      "[4]\tvalidation_0-auc:0.810203\tvalidation_1-auc:0.819865\n",
      "[5]\tvalidation_0-auc:0.823982\tvalidation_1-auc:0.819865\n",
      "[6]\tvalidation_0-auc:0.839952\tvalidation_1-auc:0.849747\n",
      "[7]\tvalidation_0-auc:0.837832\tvalidation_1-auc:0.849747\n",
      "[8]\tvalidation_0-auc:0.839952\tvalidation_1-auc:0.849747\n",
      "[9]\tvalidation_0-auc:0.846665\tvalidation_1-auc:0.86995\n",
      "[10]\tvalidation_0-auc:0.843838\tvalidation_1-auc:0.858165\n",
      "[11]\tvalidation_0-auc:0.84299\tvalidation_1-auc:0.858165\n",
      "[12]\tvalidation_0-auc:0.84299\tvalidation_1-auc:0.858165\n",
      "[13]\tvalidation_0-auc:0.849774\tvalidation_1-auc:0.843013\n",
      "[14]\tvalidation_0-auc:0.872598\tvalidation_1-auc:0.869529\n",
      "[15]\tvalidation_0-auc:0.88037\tvalidation_1-auc:0.869529\n",
      "[16]\tvalidation_0-auc:0.891817\tvalidation_1-auc:0.872054\n",
      "[17]\tvalidation_0-auc:0.893655\tvalidation_1-auc:0.872054\n",
      "[18]\tvalidation_0-auc:0.890122\tvalidation_1-auc:0.869529\n",
      "[19]\tvalidation_0-auc:0.888002\tvalidation_1-auc:0.869529\n",
      "[20]\tvalidation_0-auc:0.891959\tvalidation_1-auc:0.868687\n",
      "[21]\tvalidation_0-auc:0.905102\tvalidation_1-auc:0.871212\n",
      "[22]\tvalidation_0-auc:0.909907\tvalidation_1-auc:0.874579\n",
      "[23]\tvalidation_0-auc:0.908776\tvalidation_1-auc:0.874579\n",
      "[24]\tvalidation_0-auc:0.916408\tvalidation_1-auc:0.880892\n",
      "[25]\tvalidation_0-auc:0.924675\tvalidation_1-auc:0.885943\n",
      "[26]\tvalidation_0-auc:0.930893\tvalidation_1-auc:0.890993\n",
      "[27]\tvalidation_0-auc:0.933013\tvalidation_1-auc:0.891835\n",
      "[28]\tvalidation_0-auc:0.93273\tvalidation_1-auc:0.886784\n",
      "[29]\tvalidation_0-auc:0.93485\tvalidation_1-auc:0.894781\n",
      "[30]\tvalidation_0-auc:0.93909\tvalidation_1-auc:0.893519\n",
      "[31]\tvalidation_0-auc:0.944884\tvalidation_1-auc:0.896044\n",
      "[32]\tvalidation_0-auc:0.939373\tvalidation_1-auc:0.899411\n",
      "[33]\tvalidation_0-auc:0.941634\tvalidation_1-auc:0.895202\n",
      "[34]\tvalidation_0-auc:0.942482\tvalidation_1-auc:0.88468\n",
      "[35]\tvalidation_0-auc:0.942482\tvalidation_1-auc:0.889731\n",
      "[36]\tvalidation_0-auc:0.945449\tvalidation_1-auc:0.889731\n",
      "[37]\tvalidation_0-auc:0.946368\tvalidation_1-auc:0.885522\n",
      "[38]\tvalidation_0-auc:0.946933\tvalidation_1-auc:0.885522\n",
      "[39]\tvalidation_0-auc:0.94976\tvalidation_1-auc:0.883838\n",
      "[40]\tvalidation_0-auc:0.94976\tvalidation_1-auc:0.881313\n",
      "[41]\tvalidation_0-auc:0.952162\tvalidation_1-auc:0.878788\n",
      "[42]\tvalidation_0-auc:0.951456\tvalidation_1-auc:0.882155\n",
      "[43]\tvalidation_0-auc:0.950608\tvalidation_1-auc:0.882997\n",
      "[44]\tvalidation_0-auc:0.952445\tvalidation_1-auc:0.875421\n",
      "[45]\tvalidation_0-auc:0.954565\tvalidation_1-auc:0.875421\n",
      "[46]\tvalidation_0-auc:0.954989\tvalidation_1-auc:0.872896\n",
      "[47]\tvalidation_0-auc:0.952869\tvalidation_1-auc:0.873737\n",
      "[48]\tvalidation_0-auc:0.954777\tvalidation_1-auc:0.881313\n",
      "[49]\tvalidation_0-auc:0.955342\tvalidation_1-auc:0.881313\n",
      "[50]\tvalidation_0-auc:0.955201\tvalidation_1-auc:0.883838\n",
      "[51]\tvalidation_0-auc:0.956049\tvalidation_1-auc:0.882155\n",
      "[52]\tvalidation_0-auc:0.962479\tvalidation_1-auc:0.895623\n",
      "[53]\tvalidation_0-auc:0.962761\tvalidation_1-auc:0.895623\n",
      "[54]\tvalidation_0-auc:0.962903\tvalidation_1-auc:0.893098\n",
      "[55]\tvalidation_0-auc:0.963327\tvalidation_1-auc:0.893098\n",
      "[56]\tvalidation_0-auc:0.96474\tvalidation_1-auc:0.893098\n",
      "[57]\tvalidation_0-auc:0.96474\tvalidation_1-auc:0.893098\n",
      "[58]\tvalidation_0-auc:0.966153\tvalidation_1-auc:0.896465\n",
      "[59]\tvalidation_0-auc:0.966295\tvalidation_1-auc:0.893939\n",
      "[60]\tvalidation_0-auc:0.968202\tvalidation_1-auc:0.895623\n",
      "[61]\tvalidation_0-auc:0.968344\tvalidation_1-auc:0.895623\n",
      "[62]\tvalidation_0-auc:0.970181\tvalidation_1-auc:0.89899\n",
      "[63]\tvalidation_0-auc:0.971311\tvalidation_1-auc:0.900673\n",
      "[64]\tvalidation_0-auc:0.972018\tvalidation_1-auc:0.901515\n",
      "[65]\tvalidation_0-auc:0.972159\tvalidation_1-auc:0.910774\n",
      "[66]\tvalidation_0-auc:0.973149\tvalidation_1-auc:0.914141\n",
      "[67]\tvalidation_0-auc:0.976894\tvalidation_1-auc:0.910774\n",
      "[68]\tvalidation_0-auc:0.976894\tvalidation_1-auc:0.912458\n",
      "[69]\tvalidation_0-auc:0.978166\tvalidation_1-auc:0.911616\n",
      "[70]\tvalidation_0-auc:0.978731\tvalidation_1-auc:0.912458\n",
      "[71]\tvalidation_0-auc:0.979014\tvalidation_1-auc:0.917508\n",
      "[72]\tvalidation_0-auc:0.979861\tvalidation_1-auc:0.920875\n",
      "[73]\tvalidation_0-auc:0.979861\tvalidation_1-auc:0.921717\n",
      "[74]\tvalidation_0-auc:0.979861\tvalidation_1-auc:0.921717\n",
      "[75]\tvalidation_0-auc:0.980003\tvalidation_1-auc:0.921717\n",
      "[76]\tvalidation_0-auc:0.981133\tvalidation_1-auc:0.920034\n",
      "[77]\tvalidation_0-auc:0.982264\tvalidation_1-auc:0.920875\n",
      "[78]\tvalidation_0-auc:0.982405\tvalidation_1-auc:0.920034\n",
      "[79]\tvalidation_0-auc:0.983819\tvalidation_1-auc:0.920875\n",
      "[80]\tvalidation_0-auc:0.984455\tvalidation_1-auc:0.922559\n",
      "[81]\tvalidation_0-auc:0.984949\tvalidation_1-auc:0.924663\n",
      "[82]\tvalidation_0-auc:0.985232\tvalidation_1-auc:0.921296\n",
      "[83]\tvalidation_0-auc:0.985797\tvalidation_1-auc:0.921296\n",
      "[84]\tvalidation_0-auc:0.986221\tvalidation_1-auc:0.92298\n",
      "[85]\tvalidation_0-auc:0.987069\tvalidation_1-auc:0.925505\n",
      "[86]\tvalidation_0-auc:0.98721\tvalidation_1-auc:0.925505\n",
      "[87]\tvalidation_0-auc:0.986928\tvalidation_1-auc:0.923822\n",
      "[88]\tvalidation_0-auc:0.987069\tvalidation_1-auc:0.923822\n",
      "[89]\tvalidation_0-auc:0.987917\tvalidation_1-auc:0.92298\n",
      "[90]\tvalidation_0-auc:0.987776\tvalidation_1-auc:0.924663\n",
      "[91]\tvalidation_0-auc:0.987917\tvalidation_1-auc:0.922138\n",
      "[92]\tvalidation_0-auc:0.987776\tvalidation_1-auc:0.92298\n",
      "[93]\tvalidation_0-auc:0.9882\tvalidation_1-auc:0.922138\n",
      "[94]\tvalidation_0-auc:0.9882\tvalidation_1-auc:0.919613\n",
      "[95]\tvalidation_0-auc:0.988341\tvalidation_1-auc:0.919613\n",
      "[96]\tvalidation_0-auc:0.988906\tvalidation_1-auc:0.920455\n",
      "[97]\tvalidation_0-auc:0.988906\tvalidation_1-auc:0.919613\n",
      "[98]\tvalidation_0-auc:0.988906\tvalidation_1-auc:0.919613\n",
      "[99]\tvalidation_0-auc:0.988906\tvalidation_1-auc:0.919613\n"
     ]
    },
    {
     "data": {
      "text/plain": [
       "XGBClassifier(base_score=0.5, booster='gbtree', colsample_bylevel=1,\n",
       "       colsample_bytree=1, gamma=0, learning_rate=0.1, max_delta_step=0,\n",
       "       max_depth=3, min_child_weight=1, missing=None, n_estimators=100,\n",
       "       n_jobs=1, nthread=None, objective='binary:logistic', random_state=0,\n",
       "       reg_alpha=0, reg_lambda=1, scale_pos_weight=1, seed=None,\n",
       "       silent=True, subsample=1)"
      ]
     },
     "execution_count": 93,
     "metadata": {},
     "output_type": "execute_result"
    }
   ],
   "source": [
    "#importing necessary libraries for XGboost algorithm\n",
    "from xgboost import XGBClassifier\n",
    "from matplotlib import pyplot\n",
    "#create the model\n",
    "model = XGBClassifier()\n",
    "#fit the model with training data and evaluate with auc eval_metric.\n",
    "model.fit(X_train, y_train,eval_set=[(X_train, y_train), (X_test, y_test)], eval_metric='auc')\n"
   ]
  },
  {
   "cell_type": "code",
   "execution_count": 94,
   "metadata": {},
   "outputs": [
    {
     "name": "stdout",
     "output_type": "stream",
     "text": [
      "[ 0.58095241  0.41904762]\n"
     ]
    },
    {
     "data": {
      "image/png": "[encoded data removed]",
      "text/plain": [
       "<matplotlib.figure.Figure at 0x27a1d48bc50>"
      ]
     },
     "metadata": {},
     "output_type": "display_data"
    }
   ],
   "source": [
    "# feature importance\n",
    "print(model.feature_importances_)\n",
    "# plot\n",
    "pyplot.bar(range(len(model.feature_importances_)), model.feature_importances_)\n",
    "pyplot.show()"
   ]
  },
  {
   "cell_type": "code",
   "execution_count": 95,
   "metadata": {},
   "outputs": [],
   "source": [
    "y_pred = model.predict(X_test)# predicting the model using model.predict function"
   ]
  },
  {
   "cell_type": "code",
   "execution_count": 101,
   "metadata": {},
   "outputs": [
    {
     "name": "stdout",
     "output_type": "stream",
     "text": [
      "roc_auc_score is: 0.87%\n"
     ]
    }
   ],
   "source": [
    "accuracy = roc_auc_score(y_test,y_pred ) # calculating the accuracy score.\n",
    "print(\"roc_auc_score is: %.2f%%\" % (accuracy))"
   ]
  },
  {
   "cell_type": "markdown",
   "metadata": {},
   "source": [
    "# 3) Write testcases on all user defined functions using pytest framework."
   ]
  },
  {
   "cell_type": "markdown",
   "metadata": {},
   "source": [
    "Writing test cases for user defined function calculateGrowth() and tagging()"
   ]
  },
  {
   "cell_type": "code",
   "execution_count": 107,
   "metadata": {
    "collapsed": true
   },
   "outputs": [],
   "source": [
    "def calculateGrowth(df):\n",
    "    targetlist=[]\n",
    "    for i in range(1,len(df)):\n",
    "        if(df['Unnamed: 5'][i]==0):\n",
    "            targetlist.append(100)\n",
    "        else:\n",
    "            targetlist.append(((df['Unnamed: 6'][i]- df['Unnamed: 5'][i])/df['Unnamed: 5'][i])*100)\n",
    "    return targetlist"
   ]
  },
  {
   "cell_type": "code",
   "execution_count": 108,
   "metadata": {
    "collapsed": true
   },
   "outputs": [],
   "source": [
    "def tagging(df):\n",
    "    targetVar=[]\n",
    "    for i in range(1,len(df)):\n",
    "        if(df['Growth'][i]>0):\n",
    "            targetVar.append(1)\n",
    "        else:\n",
    "            targetVar.append(0)\n",
    "    return targetVar"
   ]
  },
  {
   "cell_type": "markdown",
   "metadata": {},
   "source": [
    "These testcases are to identify weather there has been a positive growth or not."
   ]
  },
  {
   "cell_type": "code",
   "execution_count": 104,
   "metadata": {
    "collapsed": true
   },
   "outputs": [],
   "source": [
    "import pytest"
   ]
  },
  {
   "cell_type": "code",
   "execution_count": 105,
   "metadata": {
    "collapsed": true
   },
   "outputs": [],
   "source": [
    "def calculateGrowthTest(df):\n",
    "    assert calculateGrowth(df)>0"
   ]
  },
  {
   "cell_type": "code",
   "execution_count": 106,
   "metadata": {
    "collapsed": true
   },
   "outputs": [],
   "source": [
    "def taggingTest(df):\n",
    "    assert tagging(df)==1"
   ]
  },
  {
   "cell_type": "code",
   "execution_count": null,
   "metadata": {
    "collapsed": true
   },
   "outputs": [],
   "source": []
  }
 ],
 "metadata": {
  "kernelspec": {
   "display_name": "Python 3",
   "language": "python",
   "name": "python3"
  },
  "language_info": {
   "codemirror_mode": {
    "name": "ipython",
    "version": 3
   },
   "file_extension": ".py",
   "mimetype": "text/x-python",
   "name": "python",
   "nbconvert_exporter": "python",
   "pygments_lexer": "ipython3",
   "version": "3.6.3"
  }
 },
 "nbformat": 4,
 "nbformat_minor": 2
}
