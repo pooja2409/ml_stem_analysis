{
 "cells": [
  {
   "cell_type": "markdown",
   "metadata": {},
   "source": [
    "# Stage 2: "
   ]
  },
  {
   "cell_type": "markdown",
   "metadata": {},
   "source": [
    "# 1) Create graphs of univariate distribution of all non funding variables and share on a jupyter notebook. Just FYI - Funding FY2008, FY2009, FY2010 are the \"funding variables\""
   ]
  },
  {
   "cell_type": "code",
   "execution_count": 1,
   "metadata": {
    "collapsed": true
   },
   "outputs": [],
   "source": [
    "#importing the necessary libraries\n",
    "import matplotlib.pyplot as plt\n",
    "import numpy as np\n",
    "import pandas as pd"
   ]
  },
  {
   "cell_type": "code",
   "execution_count": 2,
   "metadata": {
    "collapsed": true
   },
   "outputs": [],
   "source": [
    "# reading all the non funding variables in a dataframe\n",
    "columns_to_skip=['FUNDING','Unnamed: 5','Unnamed: 6','Unnamed: 7']\n",
    "df2 = pd.read_excel('2010 Federal STEM Education Inventory Data Set.xls', sheetname='Sheet1',na_values=[0],usecols=lambda x: x not in columns_to_skip)"
   ]
  },
  {
   "cell_type": "code",
   "execution_count": 4,
   "metadata": {},
   "outputs": [
    {
     "data": {
      "text/html": [
       "<div>\n",
       "<style>\n",
       "    .dataframe thead tr:only-child th {\n",
       "        text-align: right;\n",
       "    }\n",
       "\n",
       "    .dataframe thead th {\n",
       "        text-align: left;\n",
       "    }\n",
       "\n",
       "    .dataframe tbody tr th {\n",
       "        vertical-align: top;\n",
       "    }\n",
       "</style>\n",
       "<table border=\"1\" class=\"dataframe\">\n",
       "  <thead>\n",
       "    <tr style=\"text-align: right;\">\n",
       "      <th></th>\n",
       "      <th>PROGRAM</th>\n",
       "      <th>Unnamed: 1</th>\n",
       "      <th>Unnamed: 2</th>\n",
       "      <th>Unnamed: 3</th>\n",
       "      <th>Unnamed: 8</th>\n",
       "      <th>Unnamed: 9</th>\n",
       "      <th>Primary Objective</th>\n",
       "      <th>Secondary Objective</th>\n",
       "      <th>Unnamed: 12</th>\n",
       "      <th>Unnamed: 13</th>\n",
       "      <th>...</th>\n",
       "      <th>Unnamed: 245</th>\n",
       "      <th>Unnamed: 246</th>\n",
       "      <th>Unnamed: 247</th>\n",
       "      <th>Unnamed: 248</th>\n",
       "      <th>Unnamed: 249</th>\n",
       "      <th>Unnamed: 250</th>\n",
       "      <th>Unnamed: 251</th>\n",
       "      <th>Unnamed: 252</th>\n",
       "      <th>Unnamed: 253</th>\n",
       "      <th>Unnamed: 254</th>\n",
       "    </tr>\n",
       "  </thead>\n",
       "  <tbody>\n",
       "    <tr>\n",
       "      <th>Index Number</th>\n",
       "      <td>Investment Name</td>\n",
       "      <td>Agency</td>\n",
       "      <td>Subagency</td>\n",
       "      <td>A) Brief Description</td>\n",
       "      <td>D) Mission-specific or General STEM?</td>\n",
       "      <td>E) Agency or Mission-Related Workforce Needs?</td>\n",
       "      <td>F1) Primary Investment Objective</td>\n",
       "      <td>F2) Secondary Investment Objectives</td>\n",
       "      <td>NaN</td>\n",
       "      <td>NaN</td>\n",
       "      <td>...</td>\n",
       "      <td>NaN</td>\n",
       "      <td>NaN</td>\n",
       "      <td>Y3) Process or Implementation Evaluation Type</td>\n",
       "      <td>NaN</td>\n",
       "      <td>NaN</td>\n",
       "      <td>Y4) Portfolio Evaluation/Review Type</td>\n",
       "      <td>NaN</td>\n",
       "      <td>NaN</td>\n",
       "      <td>Y5) Expert Review Type</td>\n",
       "      <td>NaN</td>\n",
       "    </tr>\n",
       "    <tr>\n",
       "      <th>PRG_0001</th>\n",
       "      <td>Centers for Ocean Sciences Education Excellence ~</td>\n",
       "      <td>National Science Foundation</td>\n",
       "      <td>Directorate for Geosciences (GEO)</td>\n",
       "      <td>The Division of Ocean Sciences seeks to establ...</td>\n",
       "      <td>General STEM</td>\n",
       "      <td>NaN</td>\n",
       "      <td>Institutional Capacity: Support advancement an...</td>\n",
       "      <td>Learning: Develop STEM skills, practices, or k...</td>\n",
       "      <td>Engagement: Increase learners’ engagement, int...</td>\n",
       "      <td>Pre and In Service Educator/Education Leader P...</td>\n",
       "      <td>...</td>\n",
       "      <td>NaN</td>\n",
       "      <td>NaN</td>\n",
       "      <td>NaN</td>\n",
       "      <td>NaN</td>\n",
       "      <td>NO</td>\n",
       "      <td>INDEPENDENT</td>\n",
       "      <td>NaN</td>\n",
       "      <td>NaN</td>\n",
       "      <td>INDEPENDENT</td>\n",
       "      <td>NaN</td>\n",
       "    </tr>\n",
       "    <tr>\n",
       "      <th>PRG_0002</th>\n",
       "      <td>Broadening Participation in Computing (BPC)</td>\n",
       "      <td>National Science Foundation</td>\n",
       "      <td>Directorate for Computer &amp; Information Science...</td>\n",
       "      <td>The BPC Program was not primarily aimed at edu...</td>\n",
       "      <td>General STEM</td>\n",
       "      <td>NaN</td>\n",
       "      <td>Engagement: Increase learners’ engagement, int...</td>\n",
       "      <td>Learning: Develop STEM skills, practices, or k...</td>\n",
       "      <td>NaN</td>\n",
       "      <td>Pre and In Service Educator/Education Leader P...</td>\n",
       "      <td>...</td>\n",
       "      <td>NaN</td>\n",
       "      <td>NaN</td>\n",
       "      <td>NaN</td>\n",
       "      <td>NaN</td>\n",
       "      <td>NO</td>\n",
       "      <td>NaN</td>\n",
       "      <td>NaN</td>\n",
       "      <td>NO</td>\n",
       "      <td>NaN</td>\n",
       "      <td>NaN</td>\n",
       "    </tr>\n",
       "  </tbody>\n",
       "</table>\n",
       "<p>3 rows × 251 columns</p>\n",
       "</div>"
      ],
      "text/plain": [
       "                                                        PROGRAM  \\\n",
       "Index Number                                    Investment Name   \n",
       "PRG_0001      Centers for Ocean Sciences Education Excellence ~   \n",
       "PRG_0002            Broadening Participation in Computing (BPC)   \n",
       "\n",
       "                               Unnamed: 1  \\\n",
       "Index Number                       Agency   \n",
       "PRG_0001      National Science Foundation   \n",
       "PRG_0002      National Science Foundation   \n",
       "\n",
       "                                                     Unnamed: 2  \\\n",
       "Index Number                                          Subagency   \n",
       "PRG_0001                      Directorate for Geosciences (GEO)   \n",
       "PRG_0002      Directorate for Computer & Information Science...   \n",
       "\n",
       "                                                     Unnamed: 3  \\\n",
       "Index Number                               A) Brief Description   \n",
       "PRG_0001      The Division of Ocean Sciences seeks to establ...   \n",
       "PRG_0002      The BPC Program was not primarily aimed at edu...   \n",
       "\n",
       "                                        Unnamed: 8  \\\n",
       "Index Number  D) Mission-specific or General STEM?   \n",
       "PRG_0001                              General STEM   \n",
       "PRG_0002                              General STEM   \n",
       "\n",
       "                                                 Unnamed: 9  \\\n",
       "Index Number  E) Agency or Mission-Related Workforce Needs?   \n",
       "PRG_0001                                                NaN   \n",
       "PRG_0002                                                NaN   \n",
       "\n",
       "                                              Primary Objective  \\\n",
       "Index Number                   F1) Primary Investment Objective   \n",
       "PRG_0001      Institutional Capacity: Support advancement an...   \n",
       "PRG_0002      Engagement: Increase learners’ engagement, int...   \n",
       "\n",
       "                                            Secondary Objective  \\\n",
       "Index Number                F2) Secondary Investment Objectives   \n",
       "PRG_0001      Learning: Develop STEM skills, practices, or k...   \n",
       "PRG_0002      Learning: Develop STEM skills, practices, or k...   \n",
       "\n",
       "                                                    Unnamed: 12  \\\n",
       "Index Number                                                NaN   \n",
       "PRG_0001      Engagement: Increase learners’ engagement, int...   \n",
       "PRG_0002                                                    NaN   \n",
       "\n",
       "                                                    Unnamed: 13     ...       \\\n",
       "Index Number                                                NaN     ...        \n",
       "PRG_0001      Pre and In Service Educator/Education Leader P...     ...        \n",
       "PRG_0002      Pre and In Service Educator/Education Leader P...     ...        \n",
       "\n",
       "             Unnamed: 245 Unnamed: 246  \\\n",
       "Index Number          NaN          NaN   \n",
       "PRG_0001              NaN          NaN   \n",
       "PRG_0002              NaN          NaN   \n",
       "\n",
       "                                               Unnamed: 247 Unnamed: 248  \\\n",
       "Index Number  Y3) Process or Implementation Evaluation Type          NaN   \n",
       "PRG_0001                                                NaN          NaN   \n",
       "PRG_0002                                                NaN          NaN   \n",
       "\n",
       "             Unnamed: 249                          Unnamed: 250 Unnamed: 251  \\\n",
       "Index Number          NaN  Y4) Portfolio Evaluation/Review Type          NaN   \n",
       "PRG_0001               NO                           INDEPENDENT          NaN   \n",
       "PRG_0002               NO                                   NaN          NaN   \n",
       "\n",
       "             Unnamed: 252            Unnamed: 253 Unnamed: 254  \n",
       "Index Number          NaN  Y5) Expert Review Type          NaN  \n",
       "PRG_0001              NaN             INDEPENDENT          NaN  \n",
       "PRG_0002               NO                     NaN          NaN  \n",
       "\n",
       "[3 rows x 251 columns]"
      ]
     },
     "execution_count": 4,
     "metadata": {},
     "output_type": "execute_result"
    }
   ],
   "source": [
    "df2.head(3)"
   ]
  },
  {
   "cell_type": "code",
   "execution_count": 7,
   "metadata": {},
   "outputs": [
    {
     "data": {
      "image/png": "[encoded data removed]",
      "text/plain": [
       "<matplotlib.figure.Figure at 0x2ce49bf3400>"
      ]
     },
     "metadata": {},
     "output_type": "display_data"
    }
   ],
   "source": [
    "#plotting the univariate plot of the first column\n",
    "df2['Unnamed: 1'].value_counts().plot.bar()\n",
    "plt.show()"
   ]
  },
  {
   "cell_type": "code",
   "execution_count": 10,
   "metadata": {},
   "outputs": [
    {
     "data": {
      "image/png": "[encoded data removed]",
      "text/plain": [
       "<matplotlib.figure.Figure at 0x2ce49703358>"
      ]
     },
     "metadata": {},
     "output_type": "display_data"
    }
   ],
   "source": [
    "#plotting the univariate plots of all the non funding variables\n",
    "df2.hist()\n",
    "plt.show()"
   ]
  },
  {
   "cell_type": "markdown",
   "metadata": {},
   "source": [
    "# 2) Calculate mutual_info_score of target variable created in stage 1 & ALL non funding variables"
   ]
  },
  {
   "cell_type": "code",
   "execution_count": 15,
   "metadata": {},
   "outputs": [],
   "source": [
    "#to read the target variable from stage 1\n",
    "Y = pd.read_csv('PercentGrowth.csv',usecols=['Tags'])"
   ]
  },
  {
   "cell_type": "code",
   "execution_count": 16,
   "metadata": {
    "collapsed": true
   },
   "outputs": [],
   "source": [
    "# saving the labels in a list\n",
    "label=[]\n",
    "for i in range(1,len(Y['Tags'])):\n",
    "    label.append(int(Y['Tags'][i]))"
   ]
  },
  {
   "cell_type": "code",
   "execution_count": 22,
   "metadata": {
    "collapsed": true
   },
   "outputs": [],
   "source": [
    "df3=df2.iloc[1:,]#starting from 1 so as to exclude the column names"
   ]
  },
  {
   "cell_type": "code",
   "execution_count": 26,
   "metadata": {},
   "outputs": [
    {
     "data": {
      "text/plain": [
       "0.63279856087905317"
      ]
     },
     "execution_count": 26,
     "metadata": {},
     "output_type": "execute_result"
    }
   ],
   "source": [
    "# calculating the mutual info score of the target variable that was calculated in stage 1\n",
    "from sklearn.metrics.cluster import mutual_info_score\n",
    "mutual_info_score(label,label,contingency=None)"
   ]
  },
  {
   "cell_type": "code",
   "execution_count": null,
   "metadata": {
    "collapsed": true
   },
   "outputs": [],
   "source": []
  }
 ],
 "metadata": {
  "kernelspec": {
   "display_name": "Python 3",
   "language": "python",
   "name": "python3"
  },
  "language_info": {
   "codemirror_mode": {
    "name": "ipython",
    "version": 3
   },
   "file_extension": ".py",
   "mimetype": "text/x-python",
   "name": "python",
   "nbconvert_exporter": "python",
   "pygments_lexer": "ipython3",
   "version": "3.6.3"
  }
 },
 "nbformat": 4,
 "nbformat_minor": 2
}
