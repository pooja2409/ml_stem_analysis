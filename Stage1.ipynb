{
 "cells": [
  {
   "cell_type": "markdown",
   "metadata": {},
   "source": [
    "# RedCarpetUp Incorporation ML Internship Assignment"
   ]
  },
  {
   "cell_type": "markdown",
   "metadata": {},
   "source": [
    "# Stage 1"
   ]
  },
  {
   "cell_type": "markdown",
   "metadata": {},
   "source": [
    "1)Calculate % growth of funding between year 2008 & 2009."
   ]
  },
  {
   "cell_type": "code",
   "execution_count": 1,
   "metadata": {},
   "outputs": [
    {
     "name": "stdout",
     "output_type": "stream",
     "text": [
      "Column headings:\n",
      "Index(['Unnamed: 5', 'Unnamed: 6'], dtype='object')\n"
     ]
    }
   ],
   "source": [
    "#Load the dataset in a dataframe\n",
    "import pandas as pd # for importing the dataset\n",
    "columns_to_add=['Unnamed: 5','Unnamed: 6']# for stage 1 only the column Funding FY2008 and Funding FY2008 is required.\n",
    "df = pd.read_excel('2010 Federal STEM Education Inventory Data Set.xls', sheetname='Sheet1',na_values=[0],usecols=lambda x: x in columns_to_add)\n",
    "print(\"Column headings:\")\n",
    "print(df.columns)# to print out column headings\n"
   ]
  },
  {
   "cell_type": "code",
   "execution_count": 2,
   "metadata": {
    "collapsed": true
   },
   "outputs": [],
   "source": [
    "df.fillna(0, inplace=True)# as the data contains alot of missing values filling all the mising values with 0"
   ]
  },
  {
   "cell_type": "code",
   "execution_count": 3,
   "metadata": {
    "scrolled": true
   },
   "outputs": [],
   "source": [
    "# function to calculate the growth from the year 2008 to 2009\n",
    "def calculateGrowth(df):\n",
    "    targetlist=[]\n",
    "    for i in range(1,len(df)):\n",
    "        if(df['Unnamed: 5'][i]==0):\n",
    "            targetlist.append(100)\n",
    "        else:\n",
    "            targetlist.append(((df['Unnamed: 6'][i]- df['Unnamed: 5'][i])/df['Unnamed: 5'][i])*100)\n",
    "    return targetlist"
   ]
  },
  {
   "cell_type": "code",
   "execution_count": 4,
   "metadata": {},
   "outputs": [],
   "source": [
    "target=calculateGrowth(df)#calling the finction\n",
    "target.insert(0,'percentGrowth')#inserting the column name"
   ]
  },
  {
   "cell_type": "code",
   "execution_count": 5,
   "metadata": {},
   "outputs": [],
   "source": [
    "df['Growth']=target # adding the growth column to the dataframe"
   ]
  },
  {
   "cell_type": "code",
   "execution_count": 6,
   "metadata": {},
   "outputs": [
    {
     "name": "stdout",
     "output_type": "stream",
     "text": [
      "                      Unnamed: 5          Unnamed: 6         Growth\n",
      "Index Number  C1) Funding FY2008  C2) Funding FY2009  percentGrowth\n",
      "PRG_0001                    5.24                7.19        37.2137\n",
      "PRG_0002                      14                  14              0\n",
      "PRG_0003                       5                   5              0\n",
      "PRG_0004                    4.57               11.79        157.987\n",
      "PRG_0005                    1.63                2.74        68.0982\n",
      "PRG_0006                       3                   3              0\n",
      "PRG_0007                     1.1                1.12        1.81818\n",
      "PRG_0008                   96.02              162.43        69.1627\n",
      "PRG_0009                   64.76               77.99        20.4293\n",
      "PRG_0010                    54.6               58.84        7.76557\n",
      "PRG_0012                    1.75                1.52       -13.1429\n",
      "PRG_0013                    5.09                4.68       -8.05501\n",
      "PRG_0014                   51.46               51.85        0.75787\n",
      "PRG_0015                   37.28               40.86          9.603\n",
      "PRG_0016                       0                9.95            100\n",
      "PRG_0017                    5.57                5.15       -7.54039\n",
      "PRG_0018                   11.37               14.88        30.8707\n",
      "PRG_0019                   47.87               85.99        79.6323\n",
      "PRG_0020                   62.67              100.47        60.3159\n",
      "PRG_0021                   55.05                 115        108.901\n",
      "PRG_0022                   29.48               29.09       -1.32293\n",
      "PRG_0023                    2.29                2.42        5.67686\n",
      "PRG_0025                    2.71                4.22        55.7196\n",
      "PRG_0026                   19.46               26.95        38.4892\n",
      "PRG_0027                    2.32                2.71        16.8103\n",
      "PRG_0028                   99.25              108.41        9.22922\n",
      "PRG_0029                   41.66                42.6        2.25636\n",
      "PRG_0030                   64.45               65.72        1.97052\n",
      "PRG_0031                    1.08                   2        85.1852\n",
      "...                          ...                 ...            ...\n",
      "PRG_0293                   0.826               0.826              0\n",
      "PRG_0294                   1.245                2.53        103.213\n",
      "PRG_0295                     5.8               6.327        9.08621\n",
      "PRG_0296                     2.8                 2.9        3.57143\n",
      "PRG_0297                    6.36               2.976       -53.2075\n",
      "PRG_0298                0.510895            0.627349        22.7941\n",
      "PRG_0299                    3.97                 5.6        41.0579\n",
      "PRG_0300                       0                 0.9            100\n",
      "PRG_0301                  74.439             83.4526        12.1087\n",
      "PRG_0302                   1.961               1.989        1.42784\n",
      "PRG_0303                   1.114                1.13        1.43627\n",
      "PRG_0306                   0.642               0.648       0.934579\n",
      "PRG_0308                    13.2                14.1        6.81818\n",
      "PRG_0310                       1               1.418           41.8\n",
      "PRG_0311                  0.4681             0.61983         32.414\n",
      "PRG_0312                 10.3309             14.6606        41.9108\n",
      "PRG_0313                       0                 1.5            100\n",
      "PRG_0314                     3.5                 2.5       -28.5714\n",
      "PRG_0315                     3.8                 3.8              0\n",
      "PRG_0316                    0.17               0.272             60\n",
      "PRG_0317                   0.177               0.224        26.5537\n",
      "PRG_0318                   0.366                0.46        25.6831\n",
      "PRG_0319                   28.72               27.86       -2.99443\n",
      "PRG_0320                    92.4               61.22       -33.7446\n",
      "PRG_0321                   10.13                11.4         12.537\n",
      "PRG_0324                     9.9                   0           -100\n",
      "PRG_0325                   0.476               0.486        2.10084\n",
      "PRG_0326                       0                   0            100\n",
      "PRG_0327                     194                 341        75.7732\n",
      "NaN                      2796.84             3354.39        19.9352\n",
      "\n",
      "[254 rows x 3 columns]\n"
     ]
    }
   ],
   "source": [
    "print(df)# printing the dataframe"
   ]
  },
  {
   "cell_type": "markdown",
   "metadata": {},
   "source": [
    "# 2) If funding is positive, tag it as 1, if funding is negative tag it as 0. This is the target variable."
   ]
  },
  {
   "cell_type": "code",
   "execution_count": 7,
   "metadata": {},
   "outputs": [],
   "source": [
    "#function to put tags if positive growth do 1 else 0\n",
    "def tagging(df):\n",
    "    targetVar=[]\n",
    "    for i in range(1,len(df)):\n",
    "        if(df['Growth'][i]>0):\n",
    "            targetVar.append(1)\n",
    "        else:\n",
    "            targetVar.append(0)\n",
    "    return targetVar"
   ]
  },
  {
   "cell_type": "code",
   "execution_count": 8,
   "metadata": {},
   "outputs": [],
   "source": [
    "tags= tagging(df)#calling the function\n",
    "tags.insert(0,'Target')#inserting the column name"
   ]
  },
  {
   "cell_type": "code",
   "execution_count": 9,
   "metadata": {},
   "outputs": [],
   "source": [
    "df['Tags']=tags#adding tags column to the dataframe"
   ]
  },
  {
   "cell_type": "code",
   "execution_count": 10,
   "metadata": {},
   "outputs": [
    {
     "name": "stdout",
     "output_type": "stream",
     "text": [
      "                      Unnamed: 5          Unnamed: 6         Growth    Tags\n",
      "Index Number  C1) Funding FY2008  C2) Funding FY2009  percentGrowth  Target\n",
      "PRG_0001                    5.24                7.19        37.2137       1\n",
      "PRG_0002                      14                  14              0       0\n",
      "PRG_0003                       5                   5              0       0\n",
      "PRG_0004                    4.57               11.79        157.987       1\n",
      "PRG_0005                    1.63                2.74        68.0982       1\n",
      "PRG_0006                       3                   3              0       0\n",
      "PRG_0007                     1.1                1.12        1.81818       1\n",
      "PRG_0008                   96.02              162.43        69.1627       1\n",
      "PRG_0009                   64.76               77.99        20.4293       1\n",
      "PRG_0010                    54.6               58.84        7.76557       1\n",
      "PRG_0012                    1.75                1.52       -13.1429       0\n",
      "PRG_0013                    5.09                4.68       -8.05501       0\n",
      "PRG_0014                   51.46               51.85        0.75787       1\n",
      "PRG_0015                   37.28               40.86          9.603       1\n",
      "PRG_0016                       0                9.95            100       1\n",
      "PRG_0017                    5.57                5.15       -7.54039       0\n",
      "PRG_0018                   11.37               14.88        30.8707       1\n",
      "PRG_0019                   47.87               85.99        79.6323       1\n",
      "PRG_0020                   62.67              100.47        60.3159       1\n",
      "PRG_0021                   55.05                 115        108.901       1\n",
      "PRG_0022                   29.48               29.09       -1.32293       0\n",
      "PRG_0023                    2.29                2.42        5.67686       1\n",
      "PRG_0025                    2.71                4.22        55.7196       1\n",
      "PRG_0026                   19.46               26.95        38.4892       1\n",
      "PRG_0027                    2.32                2.71        16.8103       1\n",
      "PRG_0028                   99.25              108.41        9.22922       1\n",
      "PRG_0029                   41.66                42.6        2.25636       1\n",
      "PRG_0030                   64.45               65.72        1.97052       1\n",
      "PRG_0031                    1.08                   2        85.1852       1\n",
      "...                          ...                 ...            ...     ...\n",
      "PRG_0293                   0.826               0.826              0       0\n",
      "PRG_0294                   1.245                2.53        103.213       1\n",
      "PRG_0295                     5.8               6.327        9.08621       1\n",
      "PRG_0296                     2.8                 2.9        3.57143       1\n",
      "PRG_0297                    6.36               2.976       -53.2075       0\n",
      "PRG_0298                0.510895            0.627349        22.7941       1\n",
      "PRG_0299                    3.97                 5.6        41.0579       1\n",
      "PRG_0300                       0                 0.9            100       1\n",
      "PRG_0301                  74.439             83.4526        12.1087       1\n",
      "PRG_0302                   1.961               1.989        1.42784       1\n",
      "PRG_0303                   1.114                1.13        1.43627       1\n",
      "PRG_0306                   0.642               0.648       0.934579       1\n",
      "PRG_0308                    13.2                14.1        6.81818       1\n",
      "PRG_0310                       1               1.418           41.8       1\n",
      "PRG_0311                  0.4681             0.61983         32.414       1\n",
      "PRG_0312                 10.3309             14.6606        41.9108       1\n",
      "PRG_0313                       0                 1.5            100       1\n",
      "PRG_0314                     3.5                 2.5       -28.5714       0\n",
      "PRG_0315                     3.8                 3.8              0       0\n",
      "PRG_0316                    0.17               0.272             60       1\n",
      "PRG_0317                   0.177               0.224        26.5537       1\n",
      "PRG_0318                   0.366                0.46        25.6831       1\n",
      "PRG_0319                   28.72               27.86       -2.99443       0\n",
      "PRG_0320                    92.4               61.22       -33.7446       0\n",
      "PRG_0321                   10.13                11.4         12.537       1\n",
      "PRG_0324                     9.9                   0           -100       0\n",
      "PRG_0325                   0.476               0.486        2.10084       1\n",
      "PRG_0326                       0                   0            100       1\n",
      "PRG_0327                     194                 341        75.7732       1\n",
      "NaN                      2796.84             3354.39        19.9352       1\n",
      "\n",
      "[254 rows x 4 columns]\n"
     ]
    }
   ],
   "source": [
    "df.to_csv('PercentGrowth.csv', sep=',')#saving the growth analysis in a csv file\n",
    "print(df)# printing the growth analysis"
   ]
  },
  {
   "cell_type": "code",
   "execution_count": null,
   "metadata": {
    "collapsed": true
   },
   "outputs": [],
   "source": []
  }
 ],
 "metadata": {
  "kernelspec": {
   "display_name": "Python 3",
   "language": "python",
   "name": "python3"
  },
  "language_info": {
   "codemirror_mode": {
    "name": "ipython",
    "version": 3
   },
   "file_extension": ".py",
   "mimetype": "text/x-python",
   "name": "python",
   "nbconvert_exporter": "python",
   "pygments_lexer": "ipython3",
   "version": "3.6.3"
  }
 },
 "nbformat": 4,
 "nbformat_minor": 2
}
